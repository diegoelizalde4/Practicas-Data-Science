{
 "cells": [
  {
   "cell_type": "code",
   "execution_count": null,
   "metadata": {},
   "outputs": [],
   "source": [
    "# Clasification problem\n",
    "import numpy as np\n",
    "import pandas as pd\n",
    "import warnings\n",
    "warnings.filterwarnings('ignore')\n",
    "filename_clas = 'data/pima-indians-diabetes.data.csv'\n",
    "names_clas = ['preg', 'plas', 'pres', 'skin', 'test', 'mass', 'pedi', 'age', 'class'] \n",
    "df_clas = pd.read_csv(filename_clas, names=names_clas)\n",
    "array_clas = df_clas.values\n",
    "X_clas = array_clas[:,0:8]\n",
    "Y_clas = array_clas[:,8]"
   ]
  },
  {
   "cell_type": "code",
   "execution_count": null,
   "metadata": {},
   "outputs": [],
   "source": [
    "# Cross Validation Classification Report\n",
    "from sklearn.model_selection import train_test_split\n",
    "from sklearn.linear_model import LogisticRegression\n",
    "from sklearn.metrics import classification_report\n",
    "\n",
    "test_size = 0.33\n",
    "seed = 7\n",
    "\n",
    "X_train,X_test, Y_train,Y_test = train_test_split(X_clas, Y_clas, test_size = test_size, random_state = seed)\n",
    "model = LogisticRegression(solver = 'lbfgs', max_iter = 1000)\n",
    "model.fit(X_train, Y_train)\n",
    "predicted = model.predict(X_test)\n",
    "report = classification_report(Y_test, predicted)\n",
    "print(report)"
   ]
  }
 ],
 "metadata": {
  "kernelspec": {
   "display_name": "Python 3",
   "language": "python",
   "name": "python3"
  },
  "language_info": {
   "name": "python",
   "version": "3.11.2"
  },
  "orig_nbformat": 4
 },
 "nbformat": 4,
 "nbformat_minor": 2
}

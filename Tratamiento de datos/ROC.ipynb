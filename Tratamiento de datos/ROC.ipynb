{
 "cells": [
  {
   "cell_type": "code",
   "execution_count": null,
   "metadata": {},
   "outputs": [],
   "source": [
    "# Clasification problem\n",
    "import numpy as np\n",
    "import pandas as pd\n",
    "import warnings\n",
    "warnings.filterwarnings('ignore')\n",
    "filename_clas = 'data/pima-indians-diabetes.data.csv'\n",
    "names_clas = ['preg', 'plas', 'pres', 'skin', 'test', 'mass', 'pedi', 'age', 'class'] \n",
    "df_clas = pd.read_csv(filename_clas, names=names_clas)\n",
    "array_clas = df_clas.values\n",
    "X_clas = array_clas[:,0:8]\n",
    "Y_clas = array_clas[:,8]"
   ]
  }
 ],
 "metadata": {
  "language_info": {
   "name": "python"
  },
  "orig_nbformat": 4
 },
 "nbformat": 4,
 "nbformat_minor": 2
}

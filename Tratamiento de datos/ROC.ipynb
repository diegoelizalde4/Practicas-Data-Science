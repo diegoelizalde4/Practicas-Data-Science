{
 "cells": [
  {
   "cell_type": "code",
   "execution_count": 2,
   "metadata": {},
   "outputs": [],
   "source": [
    "# Clasification problem\n",
    "import numpy as np\n",
    "import pandas as pd\n",
    "import warnings\n",
    "warnings.filterwarnings('ignore')\n",
    "filename_clas = 'data/pima-indians-diabetes.data.csv'\n",
    "names_clas = ['preg', 'plas', 'pres', 'skin', 'test', 'mass', 'pedi', 'age', 'class'] \n",
    "df_clas = pd.read_csv(filename_clas, names=names_clas)\n",
    "array_clas = df_clas.values\n",
    "X_clas = array_clas[:,0:8]\n",
    "Y_clas = array_clas[:,8]"
   ]
  },
  {
   "cell_type": "code",
   "execution_count": 3,
   "metadata": {},
   "outputs": [
    {
     "name": "stdout",
     "output_type": "stream",
     "text": [
      "AUC: 0.8294519275727007 (0.046996783036400036)\n"
     ]
    }
   ],
   "source": [
    "# Cross Validation Classification ROC AUC\n",
    "from sklearn.model_selection import KFold\n",
    "from sklearn.model_selection import cross_val_score\n",
    "from sklearn.linear_model import LogisticRegression\n",
    "\n",
    "kfold = KFold(n_splits = 10, shuffle = True, random_state = 7)\n",
    "model = LogisticRegression(solver = 'lbfgs', max_iter = 1000)\n",
    "scoring = 'roc_auc'\n",
    "results = cross_val_score(model, X_clas, Y_clas, cv= kfold, scoring = scoring)\n",
    "print(f\"AUC: {results.mean()} ({results.std()})\")\n"
   ]
  }
 ],
 "metadata": {
  "kernelspec": {
   "display_name": "Python 3",
   "language": "python",
   "name": "python3"
  },
  "language_info": {
   "codemirror_mode": {
    "name": "ipython",
    "version": 3
   },
   "file_extension": ".py",
   "mimetype": "text/x-python",
   "name": "python",
   "nbconvert_exporter": "python",
   "pygments_lexer": "ipython3",
   "version": "3.11.2"
  },
  "orig_nbformat": 4
 },
 "nbformat": 4,
 "nbformat_minor": 2
}

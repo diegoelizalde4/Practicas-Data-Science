{
 "cells": [
  {
   "cell_type": "code",
   "execution_count": 1,
   "metadata": {},
   "outputs": [],
   "source": [
    "# Clasification problem\n",
    "import numpy as np\n",
    "import pandas as pd\n",
    "filename_clas = 'data/pima-indians-diabetes.data.csv'\n",
    "names_clas = ['preg', 'plas', 'pres', 'skin', 'test', 'mass', 'pedi', 'age', 'class'] \n",
    "df_clas = pd.read_csv(filename_clas, names=names_clas)\n",
    "array_clas = df_clas.values\n",
    "X_clas = array_clas[:,0:8]\n",
    "Y_clas = array_clas[:,8]\n"
   ]
  },
  {
   "cell_type": "code",
   "execution_count": 4,
   "metadata": {},
   "outputs": [
    {
     "name": "stdout",
     "output_type": "stream",
     "text": [
      "Cohens score:52.42%\n"
     ]
    }
   ],
   "source": [
    "# Cross Validation Classification Confusion Matrix\n",
    "from sklearn.model_selection import train_test_split\n",
    "from sklearn.metrics import cohen_kappa_score\n",
    "from sklearn.linear_model import LogisticRegression\n",
    "\n",
    "test_size = 0.33\n",
    "seed=7\n",
    "X_train, X_test, Y_train, Y_test = train_test_split(X_clas, Y_clas, test_size = test_size, random_state=seed)\n",
    "model = LogisticRegression(solver = 'lbfgs', max_iter = 1000)\n",
    "model.fit(X_train, Y_train)\n",
    "predicted = model.predict(X_test)\n",
    "cohen_score = cohen_kappa_score(Y_test, predicted)\n",
    "print(f\"Cohens score:{cohen_score*100.0:,.2f}%\")"
   ]
  }
 ],
 "metadata": {
  "kernelspec": {
   "display_name": "Python 3",
   "language": "python",
   "name": "python3"
  },
  "language_info": {
   "codemirror_mode": {
    "name": "ipython",
    "version": 3
   },
   "file_extension": ".py",
   "mimetype": "text/x-python",
   "name": "python",
   "nbconvert_exporter": "python",
   "pygments_lexer": "ipython3",
   "version": "3.11.2"
  },
  "orig_nbformat": 4
 },
 "nbformat": 4,
 "nbformat_minor": 2
}

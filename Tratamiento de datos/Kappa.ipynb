{
 "cells": [
  {
   "cell_type": "code",
   "execution_count": 1,
   "metadata": {},
   "outputs": [],
   "source": [
    "# Clasification problem\n",
    "import numpy as np\n",
    "import pandas as pd\n",
    "filename_clas = 'data/pima-indians-diabetes.data.csv'\n",
    "names_clas = ['preg', 'plas', 'pres', 'skin', 'test', 'mass', 'pedi', 'age', 'class'] \n",
    "df_clas = pd.read_csv(filename_clas, names=names_clas)\n",
    "array_clas = df_clas.values\n",
    "X_clas = array_clas[:,0:8]\n",
    "Y_clas = array_clas[:,8]\n"
   ]
  },
  {
   "cell_type": "code",
   "execution_count": 3,
   "metadata": {},
   "outputs": [
    {
     "ename": "NameError",
     "evalue": "name 'LogisticRegression' is not defined",
     "output_type": "error",
     "traceback": [
      "\u001b[0;31m---------------------------------------------------------------------------\u001b[0m",
      "\u001b[0;31mNameError\u001b[0m                                 Traceback (most recent call last)",
      "\u001b[1;32m/home/alejandro/Documentos/Practicas Data Science/Tratamiento de datos/Kappa.ipynb Cell 2\u001b[0m in \u001b[0;36m9\n\u001b[1;32m      <a href='vscode-notebook-cell:/home/alejandro/Documentos/Practicas%20Data%20Science/Tratamiento%20de%20datos/Kappa.ipynb#W1sZmlsZQ%3D%3D?line=6'>7</a>\u001b[0m seed\u001b[39m=\u001b[39m\u001b[39m7\u001b[39m\n\u001b[1;32m      <a href='vscode-notebook-cell:/home/alejandro/Documentos/Practicas%20Data%20Science/Tratamiento%20de%20datos/Kappa.ipynb#W1sZmlsZQ%3D%3D?line=7'>8</a>\u001b[0m X_train, X_test, Y_train, Y_test \u001b[39m=\u001b[39m train_test_split(X_clas, Y_clas, test_size \u001b[39m=\u001b[39m test_size, random_state\u001b[39m=\u001b[39mseed)\n\u001b[0;32m----> <a href='vscode-notebook-cell:/home/alejandro/Documentos/Practicas%20Data%20Science/Tratamiento%20de%20datos/Kappa.ipynb#W1sZmlsZQ%3D%3D?line=8'>9</a>\u001b[0m model \u001b[39m=\u001b[39m LogisticRegression(solver \u001b[39m=\u001b[39m \u001b[39m'\u001b[39m\u001b[39mlbfgs\u001b[39m\u001b[39m'\u001b[39m, max_iter \u001b[39m=\u001b[39m \u001b[39m1000\u001b[39m)\n\u001b[1;32m     <a href='vscode-notebook-cell:/home/alejandro/Documentos/Practicas%20Data%20Science/Tratamiento%20de%20datos/Kappa.ipynb#W1sZmlsZQ%3D%3D?line=9'>10</a>\u001b[0m model\u001b[39m.\u001b[39mfit(X_train, Y_train)\n\u001b[1;32m     <a href='vscode-notebook-cell:/home/alejandro/Documentos/Practicas%20Data%20Science/Tratamiento%20de%20datos/Kappa.ipynb#W1sZmlsZQ%3D%3D?line=10'>11</a>\u001b[0m predicted \u001b[39m=\u001b[39m model\u001b[39m.\u001b[39mpredict(X_test)\n",
      "\u001b[0;31mNameError\u001b[0m: name 'LogisticRegression' is not defined"
     ]
    }
   ],
   "source": [
    "# Cross Validation Classification Confusion Matrix\n",
    "from sklearn.model_selection import train_test_split\n",
    "from sklearn.metrics import cohen_kappa_score\n",
    "from sklearn.linear_model import LogisticRegression\n",
    "\n",
    "test_size = 0.33\n",
    "seed=7\n",
    "X_train, X_test, Y_train, Y_test = train_test_split(X_clas, Y_clas, test_size = test_size, random_state=seed)\n",
    "model = LogisticRegression(solver = 'lbfgs', max_iter = 1000)\n",
    "model.fit(X_train, Y_train)\n",
    "predicted = model.predict(X_test)\n",
    "cohen_score = cohen_kappa_score(Y_test, predicted)\n",
    "print(f\"Cohens score:{cohen_score*100.0:,.2f}%\")"
   ]
  }
 ],
 "metadata": {
  "kernelspec": {
   "display_name": "Python 3",
   "language": "python",
   "name": "python3"
  },
  "language_info": {
   "codemirror_mode": {
    "name": "ipython",
    "version": 3
   },
   "file_extension": ".py",
   "mimetype": "text/x-python",
   "name": "python",
   "nbconvert_exporter": "python",
   "pygments_lexer": "ipython3",
   "version": "3.11.2"
  },
  "orig_nbformat": 4
 },
 "nbformat": 4,
 "nbformat_minor": 2
}
